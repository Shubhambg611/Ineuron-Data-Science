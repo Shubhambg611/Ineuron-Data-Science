{
 "cells": [
  {
   "cell_type": "markdown",
   "metadata": {},
   "source": [
    "# KNN"
   ]
  },
  {
   "cell_type": "code",
   "execution_count": 1,
   "metadata": {},
   "outputs": [],
   "source": [
    "import pandas as pd\n",
    "import numpy as np\n",
    "import matplotlib.pyplot as plt\n",
    "from sklearn.model_selection import train_test_split , GridSearchCV\n",
    "from sklearn.neighbors import KNeighborsClassifier\n",
    "from sklearn.metrics import accuracy_score\n",
    "from sklearn.preprocessing import MinMaxScaler"
   ]
  },
  {
   "cell_type": "code",
   "execution_count": 2,
   "metadata": {},
   "outputs": [],
   "source": [
    "data = pd.read_csv(\"D:\\Ineuron Data Science\\Data\\glass.csv\")"
   ]
  },
  {
   "cell_type": "code",
   "execution_count": 3,
   "metadata": {},
   "outputs": [
    {
     "data": {
      "text/html": [
       "<div>\n",
       "<style scoped>\n",
       "    .dataframe tbody tr th:only-of-type {\n",
       "        vertical-align: middle;\n",
       "    }\n",
       "\n",
       "    .dataframe tbody tr th {\n",
       "        vertical-align: top;\n",
       "    }\n",
       "\n",
       "    .dataframe thead th {\n",
       "        text-align: right;\n",
       "    }\n",
       "</style>\n",
       "<table border=\"1\" class=\"dataframe\">\n",
       "  <thead>\n",
       "    <tr style=\"text-align: right;\">\n",
       "      <th></th>\n",
       "      <th>RI</th>\n",
       "      <th>Na</th>\n",
       "      <th>Mg</th>\n",
       "      <th>Al</th>\n",
       "      <th>Si</th>\n",
       "      <th>K</th>\n",
       "      <th>Ca</th>\n",
       "      <th>Ba</th>\n",
       "      <th>Fe</th>\n",
       "      <th>Type</th>\n",
       "    </tr>\n",
       "  </thead>\n",
       "  <tbody>\n",
       "    <tr>\n",
       "      <th>0</th>\n",
       "      <td>1.52101</td>\n",
       "      <td>13.64</td>\n",
       "      <td>4.49</td>\n",
       "      <td>1.10</td>\n",
       "      <td>71.78</td>\n",
       "      <td>0.06</td>\n",
       "      <td>8.75</td>\n",
       "      <td>0.0</td>\n",
       "      <td>0.0</td>\n",
       "      <td>1</td>\n",
       "    </tr>\n",
       "    <tr>\n",
       "      <th>1</th>\n",
       "      <td>1.51761</td>\n",
       "      <td>13.89</td>\n",
       "      <td>3.60</td>\n",
       "      <td>1.36</td>\n",
       "      <td>72.73</td>\n",
       "      <td>0.48</td>\n",
       "      <td>7.83</td>\n",
       "      <td>0.0</td>\n",
       "      <td>0.0</td>\n",
       "      <td>1</td>\n",
       "    </tr>\n",
       "    <tr>\n",
       "      <th>2</th>\n",
       "      <td>1.51618</td>\n",
       "      <td>13.53</td>\n",
       "      <td>3.55</td>\n",
       "      <td>1.54</td>\n",
       "      <td>72.99</td>\n",
       "      <td>0.39</td>\n",
       "      <td>7.78</td>\n",
       "      <td>0.0</td>\n",
       "      <td>0.0</td>\n",
       "      <td>1</td>\n",
       "    </tr>\n",
       "    <tr>\n",
       "      <th>3</th>\n",
       "      <td>1.51766</td>\n",
       "      <td>13.21</td>\n",
       "      <td>3.69</td>\n",
       "      <td>1.29</td>\n",
       "      <td>72.61</td>\n",
       "      <td>0.57</td>\n",
       "      <td>8.22</td>\n",
       "      <td>0.0</td>\n",
       "      <td>0.0</td>\n",
       "      <td>1</td>\n",
       "    </tr>\n",
       "    <tr>\n",
       "      <th>4</th>\n",
       "      <td>1.51742</td>\n",
       "      <td>13.27</td>\n",
       "      <td>3.62</td>\n",
       "      <td>1.24</td>\n",
       "      <td>73.08</td>\n",
       "      <td>0.55</td>\n",
       "      <td>8.07</td>\n",
       "      <td>0.0</td>\n",
       "      <td>0.0</td>\n",
       "      <td>1</td>\n",
       "    </tr>\n",
       "  </tbody>\n",
       "</table>\n",
       "</div>"
      ],
      "text/plain": [
       "        RI     Na    Mg    Al     Si     K    Ca   Ba   Fe  Type\n",
       "0  1.52101  13.64  4.49  1.10  71.78  0.06  8.75  0.0  0.0     1\n",
       "1  1.51761  13.89  3.60  1.36  72.73  0.48  7.83  0.0  0.0     1\n",
       "2  1.51618  13.53  3.55  1.54  72.99  0.39  7.78  0.0  0.0     1\n",
       "3  1.51766  13.21  3.69  1.29  72.61  0.57  8.22  0.0  0.0     1\n",
       "4  1.51742  13.27  3.62  1.24  73.08  0.55  8.07  0.0  0.0     1"
      ]
     },
     "execution_count": 3,
     "metadata": {},
     "output_type": "execute_result"
    }
   ],
   "source": [
    "data.head()"
   ]
  },
  {
   "cell_type": "code",
   "execution_count": 4,
   "metadata": {},
   "outputs": [
    {
     "data": {
      "text/plain": [
       "(214, 10)"
      ]
     },
     "execution_count": 4,
     "metadata": {},
     "output_type": "execute_result"
    }
   ],
   "source": [
    "data.shape"
   ]
  },
  {
   "cell_type": "code",
   "execution_count": 5,
   "metadata": {},
   "outputs": [
    {
     "data": {
      "text/plain": [
       "Type\n",
       "1    70\n",
       "2    76\n",
       "3    17\n",
       "5    13\n",
       "6     9\n",
       "7    29\n",
       "Name: count, dtype: int64"
      ]
     },
     "execution_count": 5,
     "metadata": {},
     "output_type": "execute_result"
    }
   ],
   "source": [
    "data['Type'].value_counts().sort_index()"
   ]
  },
  {
   "cell_type": "code",
   "execution_count": 6,
   "metadata": {},
   "outputs": [
    {
     "data": {
      "text/plain": [
       "1"
      ]
     },
     "execution_count": 6,
     "metadata": {},
     "output_type": "execute_result"
    }
   ],
   "source": [
    "data.duplicated().sum()"
   ]
  },
  {
   "cell_type": "code",
   "execution_count": 7,
   "metadata": {},
   "outputs": [],
   "source": [
    "data = data.drop_duplicates()"
   ]
  },
  {
   "cell_type": "code",
   "execution_count": 8,
   "metadata": {},
   "outputs": [
    {
     "data": {
      "text/plain": [
       "0"
      ]
     },
     "execution_count": 8,
     "metadata": {},
     "output_type": "execute_result"
    }
   ],
   "source": [
    "data.duplicated().sum()"
   ]
  },
  {
   "cell_type": "code",
   "execution_count": 9,
   "metadata": {},
   "outputs": [],
   "source": [
    "x = data.iloc[:,:-1]"
   ]
  },
  {
   "cell_type": "code",
   "execution_count": 10,
   "metadata": {},
   "outputs": [],
   "source": [
    "y = data.iloc[:,-1]"
   ]
  },
  {
   "cell_type": "code",
   "execution_count": 11,
   "metadata": {},
   "outputs": [
    {
     "data": {
      "text/plain": [
       "0      1\n",
       "1      1\n",
       "2      1\n",
       "3      1\n",
       "4      1\n",
       "      ..\n",
       "209    7\n",
       "210    7\n",
       "211    7\n",
       "212    7\n",
       "213    7\n",
       "Name: Type, Length: 213, dtype: int64"
      ]
     },
     "execution_count": 11,
     "metadata": {},
     "output_type": "execute_result"
    }
   ],
   "source": [
    "y"
   ]
  },
  {
   "cell_type": "code",
   "execution_count": 12,
   "metadata": {},
   "outputs": [
    {
     "data": {
      "text/html": [
       "<div>\n",
       "<style scoped>\n",
       "    .dataframe tbody tr th:only-of-type {\n",
       "        vertical-align: middle;\n",
       "    }\n",
       "\n",
       "    .dataframe tbody tr th {\n",
       "        vertical-align: top;\n",
       "    }\n",
       "\n",
       "    .dataframe thead th {\n",
       "        text-align: right;\n",
       "    }\n",
       "</style>\n",
       "<table border=\"1\" class=\"dataframe\">\n",
       "  <thead>\n",
       "    <tr style=\"text-align: right;\">\n",
       "      <th></th>\n",
       "      <th>RI</th>\n",
       "      <th>Na</th>\n",
       "      <th>Mg</th>\n",
       "      <th>Al</th>\n",
       "      <th>Si</th>\n",
       "      <th>K</th>\n",
       "      <th>Ca</th>\n",
       "      <th>Ba</th>\n",
       "      <th>Fe</th>\n",
       "    </tr>\n",
       "  </thead>\n",
       "  <tbody>\n",
       "    <tr>\n",
       "      <th>0</th>\n",
       "      <td>1.52101</td>\n",
       "      <td>13.64</td>\n",
       "      <td>4.49</td>\n",
       "      <td>1.10</td>\n",
       "      <td>71.78</td>\n",
       "      <td>0.06</td>\n",
       "      <td>8.75</td>\n",
       "      <td>0.00</td>\n",
       "      <td>0.0</td>\n",
       "    </tr>\n",
       "    <tr>\n",
       "      <th>1</th>\n",
       "      <td>1.51761</td>\n",
       "      <td>13.89</td>\n",
       "      <td>3.60</td>\n",
       "      <td>1.36</td>\n",
       "      <td>72.73</td>\n",
       "      <td>0.48</td>\n",
       "      <td>7.83</td>\n",
       "      <td>0.00</td>\n",
       "      <td>0.0</td>\n",
       "    </tr>\n",
       "    <tr>\n",
       "      <th>2</th>\n",
       "      <td>1.51618</td>\n",
       "      <td>13.53</td>\n",
       "      <td>3.55</td>\n",
       "      <td>1.54</td>\n",
       "      <td>72.99</td>\n",
       "      <td>0.39</td>\n",
       "      <td>7.78</td>\n",
       "      <td>0.00</td>\n",
       "      <td>0.0</td>\n",
       "    </tr>\n",
       "    <tr>\n",
       "      <th>3</th>\n",
       "      <td>1.51766</td>\n",
       "      <td>13.21</td>\n",
       "      <td>3.69</td>\n",
       "      <td>1.29</td>\n",
       "      <td>72.61</td>\n",
       "      <td>0.57</td>\n",
       "      <td>8.22</td>\n",
       "      <td>0.00</td>\n",
       "      <td>0.0</td>\n",
       "    </tr>\n",
       "    <tr>\n",
       "      <th>4</th>\n",
       "      <td>1.51742</td>\n",
       "      <td>13.27</td>\n",
       "      <td>3.62</td>\n",
       "      <td>1.24</td>\n",
       "      <td>73.08</td>\n",
       "      <td>0.55</td>\n",
       "      <td>8.07</td>\n",
       "      <td>0.00</td>\n",
       "      <td>0.0</td>\n",
       "    </tr>\n",
       "    <tr>\n",
       "      <th>...</th>\n",
       "      <td>...</td>\n",
       "      <td>...</td>\n",
       "      <td>...</td>\n",
       "      <td>...</td>\n",
       "      <td>...</td>\n",
       "      <td>...</td>\n",
       "      <td>...</td>\n",
       "      <td>...</td>\n",
       "      <td>...</td>\n",
       "    </tr>\n",
       "    <tr>\n",
       "      <th>209</th>\n",
       "      <td>1.51623</td>\n",
       "      <td>14.14</td>\n",
       "      <td>0.00</td>\n",
       "      <td>2.88</td>\n",
       "      <td>72.61</td>\n",
       "      <td>0.08</td>\n",
       "      <td>9.18</td>\n",
       "      <td>1.06</td>\n",
       "      <td>0.0</td>\n",
       "    </tr>\n",
       "    <tr>\n",
       "      <th>210</th>\n",
       "      <td>1.51685</td>\n",
       "      <td>14.92</td>\n",
       "      <td>0.00</td>\n",
       "      <td>1.99</td>\n",
       "      <td>73.06</td>\n",
       "      <td>0.00</td>\n",
       "      <td>8.40</td>\n",
       "      <td>1.59</td>\n",
       "      <td>0.0</td>\n",
       "    </tr>\n",
       "    <tr>\n",
       "      <th>211</th>\n",
       "      <td>1.52065</td>\n",
       "      <td>14.36</td>\n",
       "      <td>0.00</td>\n",
       "      <td>2.02</td>\n",
       "      <td>73.42</td>\n",
       "      <td>0.00</td>\n",
       "      <td>8.44</td>\n",
       "      <td>1.64</td>\n",
       "      <td>0.0</td>\n",
       "    </tr>\n",
       "    <tr>\n",
       "      <th>212</th>\n",
       "      <td>1.51651</td>\n",
       "      <td>14.38</td>\n",
       "      <td>0.00</td>\n",
       "      <td>1.94</td>\n",
       "      <td>73.61</td>\n",
       "      <td>0.00</td>\n",
       "      <td>8.48</td>\n",
       "      <td>1.57</td>\n",
       "      <td>0.0</td>\n",
       "    </tr>\n",
       "    <tr>\n",
       "      <th>213</th>\n",
       "      <td>1.51711</td>\n",
       "      <td>14.23</td>\n",
       "      <td>0.00</td>\n",
       "      <td>2.08</td>\n",
       "      <td>73.36</td>\n",
       "      <td>0.00</td>\n",
       "      <td>8.62</td>\n",
       "      <td>1.67</td>\n",
       "      <td>0.0</td>\n",
       "    </tr>\n",
       "  </tbody>\n",
       "</table>\n",
       "<p>213 rows × 9 columns</p>\n",
       "</div>"
      ],
      "text/plain": [
       "          RI     Na    Mg    Al     Si     K    Ca    Ba   Fe\n",
       "0    1.52101  13.64  4.49  1.10  71.78  0.06  8.75  0.00  0.0\n",
       "1    1.51761  13.89  3.60  1.36  72.73  0.48  7.83  0.00  0.0\n",
       "2    1.51618  13.53  3.55  1.54  72.99  0.39  7.78  0.00  0.0\n",
       "3    1.51766  13.21  3.69  1.29  72.61  0.57  8.22  0.00  0.0\n",
       "4    1.51742  13.27  3.62  1.24  73.08  0.55  8.07  0.00  0.0\n",
       "..       ...    ...   ...   ...    ...   ...   ...   ...  ...\n",
       "209  1.51623  14.14  0.00  2.88  72.61  0.08  9.18  1.06  0.0\n",
       "210  1.51685  14.92  0.00  1.99  73.06  0.00  8.40  1.59  0.0\n",
       "211  1.52065  14.36  0.00  2.02  73.42  0.00  8.44  1.64  0.0\n",
       "212  1.51651  14.38  0.00  1.94  73.61  0.00  8.48  1.57  0.0\n",
       "213  1.51711  14.23  0.00  2.08  73.36  0.00  8.62  1.67  0.0\n",
       "\n",
       "[213 rows x 9 columns]"
      ]
     },
     "execution_count": 12,
     "metadata": {},
     "output_type": "execute_result"
    }
   ],
   "source": [
    "x"
   ]
  },
  {
   "cell_type": "markdown",
   "metadata": {},
   "source": [
    "### Wherever we have a distance in the algo will use the scalling \n",
    "#### to scale the data into same scale this scalling is required"
   ]
  },
  {
   "cell_type": "code",
   "execution_count": 13,
   "metadata": {},
   "outputs": [],
   "source": [
    "x_train,x_test,y_train,y_test = train_test_split(x,y,test_size=0.25)"
   ]
  },
  {
   "cell_type": "code",
   "execution_count": 14,
   "metadata": {},
   "outputs": [],
   "source": [
    "# scalling \n",
    "scaler = MinMaxScaler()\n",
    "x_train_sc = scaler.fit_transform(x_train)\n",
    "x_test_sc = scaler.fit_transform(x_test)"
   ]
  },
  {
   "cell_type": "code",
   "execution_count": 15,
   "metadata": {},
   "outputs": [
    {
     "data": {
      "text/plain": [
       "array([[0.43862816, 0.3496063 , 0.94472362, ..., 0.29583802, 0.        ,\n",
       "        0.        ],\n",
       "       [0.28459687, 0.32913386, 0.85678392, ..., 0.29246344, 0.        ,\n",
       "        0.37254902],\n",
       "       [0.35740072, 0.31023622, 0.8718593 , ..., 0.26884139, 0.        ,\n",
       "        0.        ],\n",
       "       ...,\n",
       "       [0.3700361 , 0.20787402, 0.68341709, ..., 0.38695163, 0.        ,\n",
       "        0.        ],\n",
       "       [0.62394705, 0.31811024, 0.91708543, ..., 0.45669291, 0.        ,\n",
       "        0.33333333],\n",
       "       [0.41877256, 0.36220472, 0.96733668, ..., 0.26209224, 0.        ,\n",
       "        0.        ]])"
      ]
     },
     "execution_count": 15,
     "metadata": {},
     "output_type": "execute_result"
    }
   ],
   "source": [
    "x_train_sc"
   ]
  },
  {
   "cell_type": "code",
   "execution_count": 16,
   "metadata": {},
   "outputs": [
    {
     "data": {
      "text/plain": [
       "array([[0.59416446, 0.16901408, 0.        , 0.44520548, 0.68587896,\n",
       "        0.13043478, 0.72583643, 0.        , 1.        ],\n",
       "       [0.42882405, 0.68309859, 1.        , 0.17808219, 0.56772334,\n",
       "        0.00966184, 0.30855019, 0.        , 0.        ],\n",
       "       [0.34792219, 0.77699531, 0.79732739, 0.27054795, 0.65417867,\n",
       "        0.09017713, 0.26672862, 0.        , 0.        ],\n",
       "       [0.        , 0.69483568, 0.71269488, 0.42123288, 0.86455331,\n",
       "        0.28341385, 0.        , 0.37777778, 0.        ],\n",
       "       [0.34394341, 0.74178404, 0.78619154, 0.25342466, 0.57636888,\n",
       "        0.0821256 , 0.31133829, 0.03492063, 0.        ],\n",
       "       [0.31211317, 0.5657277 , 0.6325167 , 0.23972603, 0.87608069,\n",
       "        0.08856683, 0.33828996, 0.        , 0.        ],\n",
       "       [0.88152078, 0.        , 0.        , 0.52054795, 0.        ,\n",
       "        0.09339775, 0.73141264, 1.        , 0.82352941],\n",
       "       [0.41998232, 0.71596244, 0.5077951 , 0.29109589, 0.62824207,\n",
       "        0.07890499, 0.41078067, 0.        , 0.5       ],\n",
       "       [0.27851459, 0.48826291, 0.78841871, 0.22260274, 0.98847262,\n",
       "        0.09339775, 0.27509294, 0.        , 0.        ],\n",
       "       [0.24712644, 0.61032864, 0.78841871, 0.35273973, 0.78674352,\n",
       "        0.10950081, 0.24907063, 0.        , 0.        ],\n",
       "       [0.16931919, 0.76995305, 0.59688196, 1.        , 0.02305476,\n",
       "        0.2705314 , 0.04089219, 0.6984127 , 0.        ],\n",
       "       [0.56542882, 0.72769953, 0.64587973, 0.20205479, 0.38616715,\n",
       "        0.01288245, 0.49814126, 0.        , 0.        ],\n",
       "       [0.2250221 , 0.85446009, 0.        , 0.73972603, 0.87608069,\n",
       "        0.        , 0.37360595, 0.17142857, 0.        ],\n",
       "       [0.34659593, 0.46948357, 0.41202673, 0.43835616, 0.82997118,\n",
       "        0.09661836, 0.4330855 , 0.        , 0.        ],\n",
       "       [0.2316534 , 0.62910798, 0.75501114, 0.23972603, 0.81556196,\n",
       "        0.08373591, 0.29925651, 0.        , 0.        ],\n",
       "       [0.35499558, 0.68309859, 0.78841871, 0.05821918, 0.8184438 ,\n",
       "        0.0257649 , 0.32156134, 0.04761905, 0.70588235],\n",
       "       [0.21927498, 0.53286385, 0.79732739, 0.32876712, 0.870317  ,\n",
       "        0.09822866, 0.24256506, 0.        , 0.        ],\n",
       "       [0.4602122 , 0.64553991, 0.83296214, 0.10958904, 0.63400576,\n",
       "        0.02898551, 0.38847584, 0.        , 0.20588235],\n",
       "       [0.31697613, 0.68309859, 0.86191537, 0.23630137, 0.61959654,\n",
       "        0.08695652, 0.26858736, 0.        , 0.94117647],\n",
       "       [0.37400531, 0.72300469, 0.79732739, 0.25342466, 0.55043228,\n",
       "        0.01932367, 0.30111524, 0.21904762, 0.        ],\n",
       "       [0.47701149, 0.70422535, 0.85523385, 0.04794521, 0.56195965,\n",
       "        0.0273752 , 0.40055762, 0.        , 0.        ],\n",
       "       [0.27541998, 0.62441315, 0.81514477, 0.20890411, 0.85878963,\n",
       "        0.09178744, 0.26394052, 0.        , 0.32352941],\n",
       "       [0.23297966, 0.95539906, 0.        , 0.48287671, 0.95100865,\n",
       "        0.        , 0.26486989, 0.54285714, 0.        ],\n",
       "       [0.26348364, 0.93192488, 0.        , 0.60273973, 1.        ,\n",
       "        0.        , 0.32713755, 0.20952381, 0.        ],\n",
       "       [0.28956676, 0.46948357, 0.76391982, 0.20890411, 0.90489914,\n",
       "        0.09983897, 0.30947955, 0.        , 0.88235294],\n",
       "       [0.27409372, 0.48826291, 0.79510022, 0.26369863, 0.92507205,\n",
       "        0.09983897, 0.2936803 , 0.        , 0.        ],\n",
       "       [0.24005305, 0.50234742, 0.79287305, 0.3630137 , 0.95965418,\n",
       "        0.10466989, 0.23791822, 0.        , 0.        ],\n",
       "       [0.26569408, 0.99061033, 0.        , 0.41780822, 0.91642651,\n",
       "        0.        , 0.29553903, 0.49206349, 0.        ],\n",
       "       [0.20291777, 0.58920188, 0.74387528, 0.30479452, 0.9481268 ,\n",
       "        0.06280193, 0.25929368, 0.        , 0.        ],\n",
       "       [1.        , 0.3685446 , 0.        , 0.14383562, 0.10086455,\n",
       "        0.01932367, 1.        , 0.        , 0.70588235],\n",
       "       [0.27984085, 0.52816901, 0.78841871, 0.21575342, 0.91930836,\n",
       "        0.10466989, 0.28810409, 0.        , 0.        ],\n",
       "       [0.22767462, 0.62910798, 0.79064588, 0.22945205, 0.86455331,\n",
       "        0.10950081, 0.24814126, 0.        , 0.        ],\n",
       "       [0.45137047, 0.56103286, 0.79732739, 0.10958904, 0.68876081,\n",
       "        0.03703704, 0.40799257, 0.        , 0.47058824],\n",
       "       [0.244916  , 0.98356808, 0.        , 0.48287671, 0.93659942,\n",
       "        0.        , 0.2760223 , 0.5047619 , 0.        ],\n",
       "       [0.39301503, 0.7629108 , 0.30066815, 0.35958904, 0.56195965,\n",
       "        0.06280193, 0.4767658 , 0.        , 0.52941176],\n",
       "       [0.31653404, 0.55633803, 0.88418708, 0.20890411, 0.75792507,\n",
       "        0.09661836, 0.27881041, 0.        , 0.        ],\n",
       "       [0.33465959, 1.        , 0.17371938, 0.39726027, 0.77521614,\n",
       "        0.        , 0.42007435, 0.        , 0.        ],\n",
       "       [0.28205128, 0.68544601, 0.81514477, 0.18150685, 0.85302594,\n",
       "        0.01771337, 0.29460967, 0.        , 0.        ],\n",
       "       [0.31388152, 0.51643192, 0.83296214, 0.18150685, 0.71181556,\n",
       "        0.10305958, 0.32806691, 0.        , 0.64705882],\n",
       "       [0.20291777, 0.49061033, 0.78396437, 0.45205479, 0.87896254,\n",
       "        0.11111111, 0.23605948, 0.        , 0.        ],\n",
       "       [0.67904509, 0.76525822, 0.82405345, 0.04452055, 0.50720461,\n",
       "        0.00322061, 0.40799257, 0.        , 0.29411765],\n",
       "       [0.08178603, 0.53755869, 0.        , 0.84246575, 0.19308357,\n",
       "        1.        , 0.14219331, 0.        , 0.        ],\n",
       "       [0.46242263, 0.57981221, 0.81959911, 0.19520548, 0.84726225,\n",
       "        0.08695652, 0.28717472, 0.        , 0.        ],\n",
       "       [0.46242263, 0.70892019, 0.22494432, 0.26712329, 0.68587896,\n",
       "        0.0531401 , 0.53066914, 0.        , 0.        ],\n",
       "       [0.25464191, 0.64553991, 0.77505568, 0.3869863 , 0.78097983,\n",
       "        0.09983897, 0.23791822, 0.        , 0.        ],\n",
       "       [0.27232538, 0.49530516, 0.77951002, 0.19178082, 0.99711816,\n",
       "        0.09017713, 0.28996283, 0.        , 0.        ],\n",
       "       [0.24580018, 0.58685446, 0.78841871, 0.30821918, 0.87319885,\n",
       "        0.09017713, 0.24814126, 0.        , 0.        ],\n",
       "       [0.20380195, 0.5       , 0.78396437, 0.52739726, 0.82132565,\n",
       "        0.11111111, 0.23605948, 0.        , 0.        ],\n",
       "       [0.71087533, 0.06807512, 0.        , 0.05821918, 0.94236311,\n",
       "        0.        , 0.88568773, 0.        , 0.        ],\n",
       "       [0.20557029, 0.48356808, 0.80400891, 0.35616438, 0.91066282,\n",
       "        0.10305958, 0.24535316, 0.        , 0.76470588],\n",
       "       [0.43766578, 0.77464789, 0.83741648, 0.        , 0.57060519,\n",
       "        0.01771337, 0.39219331, 0.        , 0.        ],\n",
       "       [0.24668435, 0.45539906, 0.64142539, 0.3869863 , 0.97982709,\n",
       "        0.11755233, 0.28903346, 0.        , 0.        ],\n",
       "       [0.27365164, 0.49061033, 0.79064588, 0.31164384, 0.84726225,\n",
       "        0.08695652, 0.28717472, 0.        , 0.55882353],\n",
       "       [0.22015915, 0.46478873, 0.74164811, 0.31164384, 1.        ,\n",
       "        0.1078905 , 0.26115242, 0.        , 0.        ]])"
      ]
     },
     "execution_count": 16,
     "metadata": {},
     "output_type": "execute_result"
    }
   ],
   "source": [
    "x_test_sc"
   ]
  },
  {
   "cell_type": "code",
   "execution_count": 17,
   "metadata": {},
   "outputs": [],
   "source": [
    "def knn_training(x_train_sc,y_train,x_test_sc,k):\n",
    "    '''\n",
    "    x_train = traning data\n",
    "    y_train = label for the training\n",
    "    x_test = it is for validation \n",
    "    k = number of nearest neighbour\n",
    "    '''\n",
    "\n",
    "    knn = KNeighborsClassifier(n_neighbors = k)\n",
    "    knn.fit(x_train_sc,y_train) \n",
    "    prediction = knn.predict(x_test_sc)\n",
    "    return prediction"
   ]
  },
  {
   "cell_type": "markdown",
   "metadata": {},
   "source": [
    "1. how to decide the number of k \n",
    "* heuristics method = sqrt of total record = this as a nearest neighbor \n",
    "* based on research = you can take diff diff values of k = starting from 1 to n<br> n = total number of instences\n",
    "\n",
    "\n",
    "2. pros and cons of knn\n",
    "\n"
   ]
  },
  {
   "cell_type": "code",
   "execution_count": 18,
   "metadata": {},
   "outputs": [],
   "source": [
    "import math\n",
    "n = data.shape[0]\n",
    "k = math.sqrt(n)"
   ]
  },
  {
   "cell_type": "code",
   "execution_count": 19,
   "metadata": {},
   "outputs": [],
   "source": [
    "k = int(k)"
   ]
  },
  {
   "cell_type": "code",
   "execution_count": 20,
   "metadata": {},
   "outputs": [],
   "source": [
    "pred = knn_training(x_train_sc,y_train,x_test_sc,k)"
   ]
  },
  {
   "cell_type": "code",
   "execution_count": 21,
   "metadata": {},
   "outputs": [
    {
     "name": "stdout",
     "output_type": "stream",
     "text": [
      "[5 1 1 2 1 1 7 2 1 1 7 1 7 6 1 2 2 1 2 1 1 1 7 7 2 1 2 7 2 5 1 1 2 7 2 1 7\n",
      " 1 2 2 1 7 1 6 1 1 1 2 5 2 1 2 2 2]\n"
     ]
    }
   ],
   "source": [
    "print(pred)"
   ]
  },
  {
   "cell_type": "code",
   "execution_count": 22,
   "metadata": {},
   "outputs": [
    {
     "data": {
      "text/plain": [
       "0.5370370370370371"
      ]
     },
     "execution_count": 22,
     "metadata": {},
     "output_type": "execute_result"
    }
   ],
   "source": [
    "accuracy_score(y_test,pred)"
   ]
  },
  {
   "cell_type": "markdown",
   "metadata": {},
   "source": [
    "New approch here we will decide the k value"
   ]
  },
  {
   "cell_type": "code",
   "execution_count": 31,
   "metadata": {},
   "outputs": [
    {
     "name": "stdout",
     "output_type": "stream",
     "text": [
      "for this k value 1 this is my accuracy 0.5740740740740741 \n",
      "for this k value 2 this is my accuracy 0.7037037037037037 \n",
      "for this k value 3 this is my accuracy 0.6666666666666666 \n",
      "for this k value 4 this is my accuracy 0.6481481481481481 \n",
      "for this k value 5 this is my accuracy 0.5555555555555556 \n",
      "for this k value 6 this is my accuracy 0.5740740740740741 \n",
      "for this k value 7 this is my accuracy 0.5555555555555556 \n",
      "for this k value 8 this is my accuracy 0.5555555555555556 \n",
      "for this k value 9 this is my accuracy 0.5370370370370371 \n",
      "for this k value 10 this is my accuracy 0.5185185185185185 \n",
      "for this k value 11 this is my accuracy 0.5555555555555556 \n",
      "for this k value 12 this is my accuracy 0.5370370370370371 \n",
      "for this k value 13 this is my accuracy 0.5925925925925926 \n",
      "for this k value 14 this is my accuracy 0.5370370370370371 \n",
      "for this k value 15 this is my accuracy 0.5555555555555556 \n",
      "for this k value 16 this is my accuracy 0.5185185185185185 \n",
      "for this k value 17 this is my accuracy 0.46296296296296297 \n",
      "for this k value 18 this is my accuracy 0.48148148148148145 \n",
      "for this k value 19 this is my accuracy 0.46296296296296297 \n",
      "for this k value 20 this is my accuracy 0.48148148148148145 \n"
     ]
    }
   ],
   "source": [
    "k_value = range(1,21)\n",
    "accuracy=[]\n",
    "\n",
    "for k in k_value:\n",
    "    y_pred = knn_training(x_train_sc,y_train,x_test_sc,k)\n",
    "    accur = accuracy_score(y_test,y_pred)\n",
    "    accuracy.append(accur)\n",
    "    print(f\"for this k value {k} this is my accuracy {accur} \")"
   ]
  },
  {
   "cell_type": "code",
   "execution_count": 32,
   "metadata": {},
   "outputs": [
    {
     "data": {
      "text/plain": [
       "0.7037037037037037"
      ]
     },
     "execution_count": 32,
     "metadata": {},
     "output_type": "execute_result"
    }
   ],
   "source": [
    "max(accuracy)"
   ]
  },
  {
   "cell_type": "code",
   "execution_count": 33,
   "metadata": {},
   "outputs": [
    {
     "data": {
      "image/png": "[encoded data removed]",
      "text/plain": [
       "<Figure size 640x480 with 1 Axes>"
      ]
     },
     "metadata": {},
     "output_type": "display_data"
    }
   ],
   "source": [
    "plt.plot(k_value,accuracy,c=\"grey\",marker = \".\",ms=7,mfc=\"black\",mec=\"green\")\n",
    "plt.xlabel(\"k\")\n",
    "plt.ylabel(\"accuracy\")\n",
    "plt.grid(True)\n",
    "plt.show()"
   ]
  },
  {
   "cell_type": "code",
   "execution_count": null,
   "metadata": {},
   "outputs": [],
   "source": []
  }
 ],
 "metadata": {
  "kernelspec": {
   "display_name": "ids",
   "language": "python",
   "name": "python3"
  },
  "language_info": {
   "codemirror_mode": {
    "name": "ipython",
    "version": 3
   },
   "file_extension": ".py",
   "mimetype": "text/x-python",
   "name": "python",
   "nbconvert_exporter": "python",
   "pygments_lexer": "ipython3",
   "version": "3.8.19"
  }
 },
 "nbformat": 4,
 "nbformat_minor": 2
}

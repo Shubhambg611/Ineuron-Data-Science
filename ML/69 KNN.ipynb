{
 "cells": [
  {
   "cell_type": "markdown",
   "metadata": {},
   "source": [
    "# KNN"
   ]
  },
  {
   "cell_type": "code",
   "execution_count": 151,
   "metadata": {},
   "outputs": [],
   "source": [
    "import pandas as pd\n",
    "import numpy as np\n",
    "import matplotlib.pyplot as plt\n",
    "from sklearn.model_selection import train_test_split , GridSearchCV\n",
    "from sklearn.neighbors import KNeighborsClassifier\n",
    "from sklearn.metrics import accuracy_score\n",
    "from sklearn.preprocessing import MinMaxScaler"
   ]
  },
  {
   "cell_type": "code",
   "execution_count": 152,
   "metadata": {},
   "outputs": [],
   "source": [
    "data = pd.read_csv(\"D:\\Ineuron Data Science\\Data\\glass.csv\")"
   ]
  },
  {
   "cell_type": "code",
   "execution_count": 153,
   "metadata": {},
   "outputs": [
    {
     "data": {
      "text/html": [
       "<div>\n",
       "<style scoped>\n",
       "    .dataframe tbody tr th:only-of-type {\n",
       "        vertical-align: middle;\n",
       "    }\n",
       "\n",
       "    .dataframe tbody tr th {\n",
       "        vertical-align: top;\n",
       "    }\n",
       "\n",
       "    .dataframe thead th {\n",
       "        text-align: right;\n",
       "    }\n",
       "</style>\n",
       "<table border=\"1\" class=\"dataframe\">\n",
       "  <thead>\n",
       "    <tr style=\"text-align: right;\">\n",
       "      <th></th>\n",
       "      <th>RI</th>\n",
       "      <th>Na</th>\n",
       "      <th>Mg</th>\n",
       "      <th>Al</th>\n",
       "      <th>Si</th>\n",
       "      <th>K</th>\n",
       "      <th>Ca</th>\n",
       "      <th>Ba</th>\n",
       "      <th>Fe</th>\n",
       "      <th>Type</th>\n",
       "    </tr>\n",
       "  </thead>\n",
       "  <tbody>\n",
       "    <tr>\n",
       "      <th>0</th>\n",
       "      <td>1.52101</td>\n",
       "      <td>13.64</td>\n",
       "      <td>4.49</td>\n",
       "      <td>1.10</td>\n",
       "      <td>71.78</td>\n",
       "      <td>0.06</td>\n",
       "      <td>8.75</td>\n",
       "      <td>0.0</td>\n",
       "      <td>0.0</td>\n",
       "      <td>1</td>\n",
       "    </tr>\n",
       "    <tr>\n",
       "      <th>1</th>\n",
       "      <td>1.51761</td>\n",
       "      <td>13.89</td>\n",
       "      <td>3.60</td>\n",
       "      <td>1.36</td>\n",
       "      <td>72.73</td>\n",
       "      <td>0.48</td>\n",
       "      <td>7.83</td>\n",
       "      <td>0.0</td>\n",
       "      <td>0.0</td>\n",
       "      <td>1</td>\n",
       "    </tr>\n",
       "    <tr>\n",
       "      <th>2</th>\n",
       "      <td>1.51618</td>\n",
       "      <td>13.53</td>\n",
       "      <td>3.55</td>\n",
       "      <td>1.54</td>\n",
       "      <td>72.99</td>\n",
       "      <td>0.39</td>\n",
       "      <td>7.78</td>\n",
       "      <td>0.0</td>\n",
       "      <td>0.0</td>\n",
       "      <td>1</td>\n",
       "    </tr>\n",
       "    <tr>\n",
       "      <th>3</th>\n",
       "      <td>1.51766</td>\n",
       "      <td>13.21</td>\n",
       "      <td>3.69</td>\n",
       "      <td>1.29</td>\n",
       "      <td>72.61</td>\n",
       "      <td>0.57</td>\n",
       "      <td>8.22</td>\n",
       "      <td>0.0</td>\n",
       "      <td>0.0</td>\n",
       "      <td>1</td>\n",
       "    </tr>\n",
       "    <tr>\n",
       "      <th>4</th>\n",
       "      <td>1.51742</td>\n",
       "      <td>13.27</td>\n",
       "      <td>3.62</td>\n",
       "      <td>1.24</td>\n",
       "      <td>73.08</td>\n",
       "      <td>0.55</td>\n",
       "      <td>8.07</td>\n",
       "      <td>0.0</td>\n",
       "      <td>0.0</td>\n",
       "      <td>1</td>\n",
       "    </tr>\n",
       "  </tbody>\n",
       "</table>\n",
       "</div>"
      ],
      "text/plain": [
       "        RI     Na    Mg    Al     Si     K    Ca   Ba   Fe  Type\n",
       "0  1.52101  13.64  4.49  1.10  71.78  0.06  8.75  0.0  0.0     1\n",
       "1  1.51761  13.89  3.60  1.36  72.73  0.48  7.83  0.0  0.0     1\n",
       "2  1.51618  13.53  3.55  1.54  72.99  0.39  7.78  0.0  0.0     1\n",
       "3  1.51766  13.21  3.69  1.29  72.61  0.57  8.22  0.0  0.0     1\n",
       "4  1.51742  13.27  3.62  1.24  73.08  0.55  8.07  0.0  0.0     1"
      ]
     },
     "execution_count": 153,
     "metadata": {},
     "output_type": "execute_result"
    }
   ],
   "source": [
    "data.head()"
   ]
  },
  {
   "cell_type": "code",
   "execution_count": 154,
   "metadata": {},
   "outputs": [
    {
     "data": {
      "text/plain": [
       "(214, 10)"
      ]
     },
     "execution_count": 154,
     "metadata": {},
     "output_type": "execute_result"
    }
   ],
   "source": [
    "data.shape"
   ]
  },
  {
   "cell_type": "code",
   "execution_count": 155,
   "metadata": {},
   "outputs": [
    {
     "data": {
      "text/plain": [
       "Type\n",
       "1    70\n",
       "2    76\n",
       "3    17\n",
       "5    13\n",
       "6     9\n",
       "7    29\n",
       "Name: count, dtype: int64"
      ]
     },
     "execution_count": 155,
     "metadata": {},
     "output_type": "execute_result"
    }
   ],
   "source": [
    "data['Type'].value_counts().sort_index()"
   ]
  },
  {
   "cell_type": "code",
   "execution_count": 156,
   "metadata": {},
   "outputs": [
    {
     "data": {
      "text/plain": [
       "1"
      ]
     },
     "execution_count": 156,
     "metadata": {},
     "output_type": "execute_result"
    }
   ],
   "source": [
    "data.duplicated().sum()"
   ]
  },
  {
   "cell_type": "code",
   "execution_count": 157,
   "metadata": {},
   "outputs": [],
   "source": [
    "data = data.drop_duplicates()"
   ]
  },
  {
   "cell_type": "code",
   "execution_count": 158,
   "metadata": {},
   "outputs": [
    {
     "data": {
      "text/plain": [
       "0"
      ]
     },
     "execution_count": 158,
     "metadata": {},
     "output_type": "execute_result"
    }
   ],
   "source": [
    "data.duplicated().sum()"
   ]
  },
  {
   "cell_type": "code",
   "execution_count": 159,
   "metadata": {},
   "outputs": [],
   "source": [
    "x = data.iloc[:,:-1]"
   ]
  },
  {
   "cell_type": "code",
   "execution_count": 160,
   "metadata": {},
   "outputs": [],
   "source": [
    "y = data.iloc[:,-1]"
   ]
  },
  {
   "cell_type": "code",
   "execution_count": 161,
   "metadata": {},
   "outputs": [
    {
     "data": {
      "text/plain": [
       "0      1\n",
       "1      1\n",
       "2      1\n",
       "3      1\n",
       "4      1\n",
       "      ..\n",
       "209    7\n",
       "210    7\n",
       "211    7\n",
       "212    7\n",
       "213    7\n",
       "Name: Type, Length: 213, dtype: int64"
      ]
     },
     "execution_count": 161,
     "metadata": {},
     "output_type": "execute_result"
    }
   ],
   "source": [
    "y"
   ]
  },
  {
   "cell_type": "code",
   "execution_count": 162,
   "metadata": {},
   "outputs": [
    {
     "data": {
      "text/html": [
       "<div>\n",
       "<style scoped>\n",
       "    .dataframe tbody tr th:only-of-type {\n",
       "        vertical-align: middle;\n",
       "    }\n",
       "\n",
       "    .dataframe tbody tr th {\n",
       "        vertical-align: top;\n",
       "    }\n",
       "\n",
       "    .dataframe thead th {\n",
       "        text-align: right;\n",
       "    }\n",
       "</style>\n",
       "<table border=\"1\" class=\"dataframe\">\n",
       "  <thead>\n",
       "    <tr style=\"text-align: right;\">\n",
       "      <th></th>\n",
       "      <th>RI</th>\n",
       "      <th>Na</th>\n",
       "      <th>Mg</th>\n",
       "      <th>Al</th>\n",
       "      <th>Si</th>\n",
       "      <th>K</th>\n",
       "      <th>Ca</th>\n",
       "      <th>Ba</th>\n",
       "      <th>Fe</th>\n",
       "    </tr>\n",
       "  </thead>\n",
       "  <tbody>\n",
       "    <tr>\n",
       "      <th>0</th>\n",
       "      <td>1.52101</td>\n",
       "      <td>13.64</td>\n",
       "      <td>4.49</td>\n",
       "      <td>1.10</td>\n",
       "      <td>71.78</td>\n",
       "      <td>0.06</td>\n",
       "      <td>8.75</td>\n",
       "      <td>0.00</td>\n",
       "      <td>0.0</td>\n",
       "    </tr>\n",
       "    <tr>\n",
       "      <th>1</th>\n",
       "      <td>1.51761</td>\n",
       "      <td>13.89</td>\n",
       "      <td>3.60</td>\n",
       "      <td>1.36</td>\n",
       "      <td>72.73</td>\n",
       "      <td>0.48</td>\n",
       "      <td>7.83</td>\n",
       "      <td>0.00</td>\n",
       "      <td>0.0</td>\n",
       "    </tr>\n",
       "    <tr>\n",
       "      <th>2</th>\n",
       "      <td>1.51618</td>\n",
       "      <td>13.53</td>\n",
       "      <td>3.55</td>\n",
       "      <td>1.54</td>\n",
       "      <td>72.99</td>\n",
       "      <td>0.39</td>\n",
       "      <td>7.78</td>\n",
       "      <td>0.00</td>\n",
       "      <td>0.0</td>\n",
       "    </tr>\n",
       "    <tr>\n",
       "      <th>3</th>\n",
       "      <td>1.51766</td>\n",
       "      <td>13.21</td>\n",
       "      <td>3.69</td>\n",
       "      <td>1.29</td>\n",
       "      <td>72.61</td>\n",
       "      <td>0.57</td>\n",
       "      <td>8.22</td>\n",
       "      <td>0.00</td>\n",
       "      <td>0.0</td>\n",
       "    </tr>\n",
       "    <tr>\n",
       "      <th>4</th>\n",
       "      <td>1.51742</td>\n",
       "      <td>13.27</td>\n",
       "      <td>3.62</td>\n",
       "      <td>1.24</td>\n",
       "      <td>73.08</td>\n",
       "      <td>0.55</td>\n",
       "      <td>8.07</td>\n",
       "      <td>0.00</td>\n",
       "      <td>0.0</td>\n",
       "    </tr>\n",
       "    <tr>\n",
       "      <th>...</th>\n",
       "      <td>...</td>\n",
       "      <td>...</td>\n",
       "      <td>...</td>\n",
       "      <td>...</td>\n",
       "      <td>...</td>\n",
       "      <td>...</td>\n",
       "      <td>...</td>\n",
       "      <td>...</td>\n",
       "      <td>...</td>\n",
       "    </tr>\n",
       "    <tr>\n",
       "      <th>209</th>\n",
       "      <td>1.51623</td>\n",
       "      <td>14.14</td>\n",
       "      <td>0.00</td>\n",
       "      <td>2.88</td>\n",
       "      <td>72.61</td>\n",
       "      <td>0.08</td>\n",
       "      <td>9.18</td>\n",
       "      <td>1.06</td>\n",
       "      <td>0.0</td>\n",
       "    </tr>\n",
       "    <tr>\n",
       "      <th>210</th>\n",
       "      <td>1.51685</td>\n",
       "      <td>14.92</td>\n",
       "      <td>0.00</td>\n",
       "      <td>1.99</td>\n",
       "      <td>73.06</td>\n",
       "      <td>0.00</td>\n",
       "      <td>8.40</td>\n",
       "      <td>1.59</td>\n",
       "      <td>0.0</td>\n",
       "    </tr>\n",
       "    <tr>\n",
       "      <th>211</th>\n",
       "      <td>1.52065</td>\n",
       "      <td>14.36</td>\n",
       "      <td>0.00</td>\n",
       "      <td>2.02</td>\n",
       "      <td>73.42</td>\n",
       "      <td>0.00</td>\n",
       "      <td>8.44</td>\n",
       "      <td>1.64</td>\n",
       "      <td>0.0</td>\n",
       "    </tr>\n",
       "    <tr>\n",
       "      <th>212</th>\n",
       "      <td>1.51651</td>\n",
       "      <td>14.38</td>\n",
       "      <td>0.00</td>\n",
       "      <td>1.94</td>\n",
       "      <td>73.61</td>\n",
       "      <td>0.00</td>\n",
       "      <td>8.48</td>\n",
       "      <td>1.57</td>\n",
       "      <td>0.0</td>\n",
       "    </tr>\n",
       "    <tr>\n",
       "      <th>213</th>\n",
       "      <td>1.51711</td>\n",
       "      <td>14.23</td>\n",
       "      <td>0.00</td>\n",
       "      <td>2.08</td>\n",
       "      <td>73.36</td>\n",
       "      <td>0.00</td>\n",
       "      <td>8.62</td>\n",
       "      <td>1.67</td>\n",
       "      <td>0.0</td>\n",
       "    </tr>\n",
       "  </tbody>\n",
       "</table>\n",
       "<p>213 rows × 9 columns</p>\n",
       "</div>"
      ],
      "text/plain": [
       "          RI     Na    Mg    Al     Si     K    Ca    Ba   Fe\n",
       "0    1.52101  13.64  4.49  1.10  71.78  0.06  8.75  0.00  0.0\n",
       "1    1.51761  13.89  3.60  1.36  72.73  0.48  7.83  0.00  0.0\n",
       "2    1.51618  13.53  3.55  1.54  72.99  0.39  7.78  0.00  0.0\n",
       "3    1.51766  13.21  3.69  1.29  72.61  0.57  8.22  0.00  0.0\n",
       "4    1.51742  13.27  3.62  1.24  73.08  0.55  8.07  0.00  0.0\n",
       "..       ...    ...   ...   ...    ...   ...   ...   ...  ...\n",
       "209  1.51623  14.14  0.00  2.88  72.61  0.08  9.18  1.06  0.0\n",
       "210  1.51685  14.92  0.00  1.99  73.06  0.00  8.40  1.59  0.0\n",
       "211  1.52065  14.36  0.00  2.02  73.42  0.00  8.44  1.64  0.0\n",
       "212  1.51651  14.38  0.00  1.94  73.61  0.00  8.48  1.57  0.0\n",
       "213  1.51711  14.23  0.00  2.08  73.36  0.00  8.62  1.67  0.0\n",
       "\n",
       "[213 rows x 9 columns]"
      ]
     },
     "execution_count": 162,
     "metadata": {},
     "output_type": "execute_result"
    }
   ],
   "source": [
    "x"
   ]
  },
  {
   "cell_type": "markdown",
   "metadata": {},
   "source": [
    "### Wherever we have a distance in the algo will use the scalling \n",
    "#### to scale the data into same scale this scalling is required"
   ]
  },
  {
   "cell_type": "code",
   "execution_count": 163,
   "metadata": {},
   "outputs": [],
   "source": [
    "x_train,x_test,y_train,y_test = train_test_split(x,y,test_size=0.25)"
   ]
  },
  {
   "cell_type": "code",
   "execution_count": 164,
   "metadata": {},
   "outputs": [],
   "source": [
    "# scalling \n",
    "scaler = MinMaxScaler()\n",
    "x_train_sc = scaler.fit_transform(x_train)\n",
    "x_test_sc = scaler.fit_transform(x_test)"
   ]
  },
  {
   "cell_type": "code",
   "execution_count": 165,
   "metadata": {},
   "outputs": [
    {
     "data": {
      "text/plain": [
       "array([[0.26558385, 0.39849624, 0.87939698, ..., 0.27881041, 0.        ,\n",
       "        0.        ],\n",
       "       [0.35162423, 0.51428571, 0.        , ..., 0.50650558, 0.        ,\n",
       "        0.        ],\n",
       "       [0.45522388, 0.34887218, 0.91708543, ..., 0.41078067, 0.        ,\n",
       "        0.33333333],\n",
       "       ...,\n",
       "       [0.54872695, 0.76090226, 0.45979899, ..., 0.29553903, 0.53333333,\n",
       "        0.        ],\n",
       "       [0.23046532, 0.54736842, 0.        , ..., 0.37360595, 0.17142857,\n",
       "        0.        ],\n",
       "       [0.28050922, 0.41353383, 0.93969849, ..., 0.24163569, 0.        ,\n",
       "        0.        ]])"
      ]
     },
     "execution_count": 165,
     "metadata": {},
     "output_type": "execute_result"
    }
   ],
   "source": [
    "x_train_sc"
   ]
  },
  {
   "cell_type": "code",
   "execution_count": 166,
   "metadata": {},
   "outputs": [
    {
     "data": {
      "text/plain": [
       "array([[0.22587269, 0.3442623 , 0.79064588, 0.27822581, 0.58690176,\n",
       "        0.10950081, 0.15662651, 0.        , 0.        ],\n",
       "       [0.32648871, 0.26229508, 0.77505568, 0.34274194, 0.5440806 ,\n",
       "        0.09500805, 0.20080321, 0.        , 0.        ],\n",
       "       [0.3045859 , 0.54098361, 0.80178174, 0.32258065, 0.56675063,\n",
       "        0.07729469, 0.12048193, 0.        , 0.        ],\n",
       "       [0.22518823, 0.35655738, 0.80400891, 0.39516129, 0.48110831,\n",
       "        0.10628019, 0.14725569, 0.        , 0.        ],\n",
       "       [0.26899384, 0.17622951, 0.77282851, 0.49596774, 0.56423174,\n",
       "        0.10628019, 0.16733601, 0.        , 0.        ],\n",
       "       [0.34360027, 0.47131148, 0.        , 0.        , 1.        ,\n",
       "        0.        , 0.54350736, 0.        , 0.        ],\n",
       "       [0.32648871, 0.09016393, 0.77951002, 0.22580645, 0.64231738,\n",
       "        0.10305958, 0.24631861, 0.        , 0.        ],\n",
       "       [0.28131417, 0.87295082, 0.        , 0.71774194, 0.70528967,\n",
       "        0.        , 0.27041499, 0.39520958, 0.        ],\n",
       "       [0.35112936, 0.77459016, 0.49888641, 0.42741935, 0.47858942,\n",
       "        0.        , 0.31191432, 0.        , 0.        ],\n",
       "       [0.72073922, 0.35655738, 0.        , 0.41129032, 0.43828715,\n",
       "        0.05152979, 0.71084337, 0.        , 0.        ],\n",
       "       [0.55099247, 0.59836066, 0.83741648, 0.00806452, 0.32997481,\n",
       "        0.01771337, 0.36412316, 0.        , 0.        ],\n",
       "       [0.39835729, 0.41393443, 0.74610245, 0.27016129, 0.40302267,\n",
       "        0.09500805, 0.26506024, 0.        , 0.        ],\n",
       "       [0.00342231, 0.17622951, 0.        , 0.99193548, 0.05541562,\n",
       "        1.        , 0.        , 0.        , 0.        ],\n",
       "       [0.25393566, 0.2704918 , 0.78841871, 0.37096774, 0.59445844,\n",
       "        0.09017713, 0.15662651, 0.        , 0.        ],\n",
       "       [0.48186174, 0.57786885, 0.30066815, 0.43145161, 0.32241814,\n",
       "        0.06280193, 0.48594378, 0.        , 0.64285714],\n",
       "       [0.31690623, 0.43852459, 0.81291759, 0.03629032, 0.63476071,\n",
       "        0.00966184, 0.26773762, 0.        , 0.        ],\n",
       "       [0.25598905, 0.31147541, 0.78841871, 0.4233871 , 0.51889169,\n",
       "        0.10950081, 0.15796519, 0.        , 0.        ],\n",
       "       [0.54962355, 0.16393443, 0.07349666, 0.38306452, 0.73299748,\n",
       "        0.02093398, 0.58099063, 0.        , 1.        ],\n",
       "       [0.        , 0.18442623, 0.        , 1.        , 0.        ,\n",
       "        1.        , 0.00401606, 0.        , 0.        ],\n",
       "       [0.22997947, 0.4057377 , 0.79510022, 0.36693548, 0.49622166,\n",
       "        0.10305958, 0.13788487, 0.        , 0.        ],\n",
       "       [0.19164956, 0.09016393, 0.80400891, 0.42741935, 0.62720403,\n",
       "        0.10305958, 0.15261044, 0.        , 0.92857143],\n",
       "       [0.24024641, 0.15163934, 0.80400891, 0.28225806, 0.57178841,\n",
       "        0.09017713, 0.22356091, 0.        , 0.        ],\n",
       "       [0.16427105, 0.53278689, 0.        , 0.7983871 , 0.69269521,\n",
       "        0.02254428, 0.33199465, 0.48502994, 0.03571429],\n",
       "       [0.36276523, 0.3442623 , 0.86636971, 0.31048387, 0.47858942,\n",
       "        0.0821256 , 0.18072289, 0.        , 0.        ],\n",
       "       [0.21013005, 0.64344262, 0.        , 0.93548387, 0.53652393,\n",
       "        0.01288245, 0.30120482, 0.63473054, 0.        ],\n",
       "       [0.3045859 , 0.09836066, 0.78841871, 0.27016129, 0.69521411,\n",
       "        0.09339775, 0.19544846, 0.        , 0.        ],\n",
       "       [0.23887748, 0.23360656, 0.76837416, 0.48387097, 0.50377834,\n",
       "        0.09661836, 0.19410977, 0.        , 0.60714286],\n",
       "       [0.20602327, 0.97540984, 0.        , 0.68951613, 0.71032746,\n",
       "        0.        , 0.23828648, 0.4011976 , 0.        ],\n",
       "       [0.34770705, 0.12295082, 0.77505568, 0.29435484, 0.62216625,\n",
       "        0.09661836, 0.20080321, 0.        , 0.        ],\n",
       "       [0.25530459, 0.04098361, 0.64142539, 0.46370968, 0.68765743,\n",
       "        0.11755233, 0.21552878, 0.        , 0.        ],\n",
       "       [1.        , 0.02868852, 0.        , 0.04435484, 0.38790932,\n",
       "        0.00966184, 1.        , 0.        , 0.        ],\n",
       "       [0.27036277, 0.68032787, 0.        , 0.61290323, 0.72544081,\n",
       "        0.        , 0.22623829, 1.        , 0.        ],\n",
       "       [0.20054757, 1.        , 0.        , 0.78629032, 0.64735516,\n",
       "        0.00805153, 0.25435074, 0.31736527, 0.        ],\n",
       "       [0.29568789, 0.11885246, 0.79287305, 0.28629032, 0.68765743,\n",
       "        0.08695652, 0.19410977, 0.        , 0.60714286],\n",
       "       [0.27720739, 0.12295082, 0.77505568, 0.31048387, 0.64483627,\n",
       "        0.09017713, 0.20080321, 0.        , 0.        ],\n",
       "       [0.58590007, 0.37295082, 0.83296214, 0.13709677, 0.38539043,\n",
       "        0.02898551, 0.35876841, 0.        , 0.25      ],\n",
       "       [0.41752225, 0.25819672, 0.74164811, 0.29032258, 0.47355164,\n",
       "        0.09661836, 0.29585007, 0.        , 0.39285714],\n",
       "       [0.2991102 , 0.        , 0.77282851, 0.33064516, 0.73299748,\n",
       "        0.09661836, 0.21686747, 0.        , 0.21428571],\n",
       "       [0.39972621, 0.37704918, 0.77505568, 0.31854839, 0.37027708,\n",
       "        0.08856683, 0.27710843, 0.        , 0.        ],\n",
       "       [0.26830938, 0.47131148, 0.81959911, 0.50403226, 0.39798489,\n",
       "        0.10305958, 0.12717537, 0.        , 0.        ],\n",
       "       [0.46406571, 0.28688525, 0.        , 0.48387097, 0.64231738,\n",
       "        0.07568438, 0.58768407, 0.        , 0.        ],\n",
       "       [0.53730322, 0.43852459, 1.        , 0.21774194, 0.32745592,\n",
       "        0.00966184, 0.24364123, 0.        , 0.        ],\n",
       "       [0.32854209, 0.38114754, 0.74832962, 0.43145161, 0.36775819,\n",
       "        0.09178744, 0.25167336, 0.        , 0.32142857],\n",
       "       [0.18959617, 0.21311475, 0.79955457, 0.38709677, 0.65994962,\n",
       "        0.1078905 , 0.12048193, 0.        , 0.        ],\n",
       "       [0.37850787, 0.25409836, 0.75055679, 0.25      , 0.56423174,\n",
       "        0.09178744, 0.25435074, 0.        , 0.57142857],\n",
       "       [0.18754278, 0.10245902, 0.78396437, 0.54032258, 0.59949622,\n",
       "        0.11111111, 0.13922356, 0.        , 0.        ],\n",
       "       [0.35660507, 0.23360656, 0.6325167 , 0.29032258, 0.59697733,\n",
       "        0.08856683, 0.28647925, 0.        , 0.        ],\n",
       "       [0.18685832, 0.12704918, 0.76391982, 0.33870968, 0.70528967,\n",
       "        0.11111111, 0.14993307, 0.        , 0.85714286],\n",
       "       [0.68377823, 0.35655738, 0.74387528, 0.27016129, 0.47858942,\n",
       "        0.09661836, 0.25435074, 0.        , 0.        ],\n",
       "       [0.32032854, 0.20901639, 0.77728285, 0.29032258, 0.59949622,\n",
       "        0.09661836, 0.20883534, 0.        , 0.        ],\n",
       "       [0.40588638, 0.54098361, 0.78619154, 0.30645161, 0.33501259,\n",
       "        0.0821256 , 0.2476573 , 0.06586826, 0.        ],\n",
       "       [0.33675565, 0.35245902, 0.63919822, 0.25403226, 0.59445844,\n",
       "        0.08856683, 0.2811245 , 0.        , 0.        ],\n",
       "       [0.19780972, 0.1352459 , 0.76614699, 0.35887097, 0.64987406,\n",
       "        0.07085346, 0.1793842 , 0.        , 0.        ],\n",
       "       [0.88843258, 0.46311475, 0.        , 0.32258065, 0.19143577,\n",
       "        0.03059581, 0.87148594, 0.        , 0.35714286]])"
      ]
     },
     "execution_count": 166,
     "metadata": {},
     "output_type": "execute_result"
    }
   ],
   "source": [
    "x_test_sc"
   ]
  },
  {
   "cell_type": "code",
   "execution_count": 167,
   "metadata": {},
   "outputs": [],
   "source": [
    "def knn_training(x_train_sc,y_train,x_test_sc,k):\n",
    "    '''\n",
    "    x_train = traning data\n",
    "    y_train = label for the training\n",
    "    x_test = it is for validation \n",
    "    k = number of nearest neighbour\n",
    "    '''\n",
    "\n",
    "    knn = KNeighborsClassifier(n_neighbors = k)\n",
    "    knn.fit(x_train_sc,y_train) \n",
    "    prediction = knn.predict(x_test_sc)\n",
    "    return prediction"
   ]
  },
  {
   "cell_type": "markdown",
   "metadata": {},
   "source": [
    "1. how to decide the number of k \n",
    "* heuristics method = sqrt of total record = this as a nearest neighbor \n",
    "* based on research = you can take diff diff values of k = starting from 1 to n<br> n = total number of instences\n",
    "\n",
    "\n",
    "2. pros and cons of knn\n",
    "\n"
   ]
  },
  {
   "cell_type": "code",
   "execution_count": 168,
   "metadata": {},
   "outputs": [],
   "source": [
    "import math\n",
    "n = data.shape[0]\n",
    "k = math.sqrt(n)"
   ]
  },
  {
   "cell_type": "code",
   "execution_count": 169,
   "metadata": {},
   "outputs": [],
   "source": [
    "k = int(k)"
   ]
  },
  {
   "cell_type": "code",
   "execution_count": 170,
   "metadata": {},
   "outputs": [],
   "source": [
    "pred = knn_training(x_train_sc,y_train,x_test_sc,k)"
   ]
  },
  {
   "cell_type": "code",
   "execution_count": 171,
   "metadata": {},
   "outputs": [
    {
     "name": "stdout",
     "output_type": "stream",
     "text": [
      "[1 1 1 2 2 6 1 7 6 5 1 1 7 2 2 1 2 2 7 2 2 1 7 1 7 1 2 7 1 2 2 7 7 2 1 1 1\n",
      " 1 1 2 5 1 2 2 2 2 1 2 1 1 1 1 2 2]\n"
     ]
    }
   ],
   "source": [
    "print(pred)"
   ]
  },
  {
   "cell_type": "code",
   "execution_count": 172,
   "metadata": {},
   "outputs": [
    {
     "data": {
      "text/plain": [
       "0.7037037037037037"
      ]
     },
     "execution_count": 172,
     "metadata": {},
     "output_type": "execute_result"
    }
   ],
   "source": [
    "accuracy_score(y_test,pred)"
   ]
  },
  {
   "cell_type": "markdown",
   "metadata": {},
   "source": [
    "New approch here we will decide the k value"
   ]
  },
  {
   "cell_type": "code",
   "execution_count": 173,
   "metadata": {},
   "outputs": [
    {
     "name": "stdout",
     "output_type": "stream",
     "text": [
      "for this k value 1 this is my accuracy 0.5925925925925926 \n",
      "for this k value 2 this is my accuracy 0.6851851851851852 \n",
      "for this k value 3 this is my accuracy 0.7222222222222222 \n",
      "for this k value 4 this is my accuracy 0.7592592592592593 \n",
      "for this k value 5 this is my accuracy 0.8333333333333334 \n",
      "for this k value 6 this is my accuracy 0.7592592592592593 \n",
      "for this k value 7 this is my accuracy 0.7222222222222222 \n",
      "for this k value 8 this is my accuracy 0.7592592592592593 \n",
      "for this k value 9 this is my accuracy 0.7037037037037037 \n",
      "for this k value 10 this is my accuracy 0.6851851851851852 \n",
      "for this k value 11 this is my accuracy 0.6851851851851852 \n",
      "for this k value 12 this is my accuracy 0.7037037037037037 \n",
      "for this k value 13 this is my accuracy 0.7037037037037037 \n",
      "for this k value 14 this is my accuracy 0.7037037037037037 \n",
      "for this k value 15 this is my accuracy 0.7037037037037037 \n",
      "for this k value 16 this is my accuracy 0.6666666666666666 \n",
      "for this k value 17 this is my accuracy 0.6851851851851852 \n",
      "for this k value 18 this is my accuracy 0.6666666666666666 \n",
      "for this k value 19 this is my accuracy 0.6666666666666666 \n",
      "for this k value 20 this is my accuracy 0.6296296296296297 \n"
     ]
    }
   ],
   "source": [
    "k_value = range(1,21)\n",
    "accuracy=[]\n",
    "\n",
    "for k in k_value:\n",
    "    y_pred = knn_training(x_train_sc,y_train,x_test_sc,k)\n",
    "    accur = accuracy_score(y_test,y_pred)\n",
    "    accuracy.append(accur)\n",
    "    print(f\"for this k value {k} this is my accuracy {accur} \")"
   ]
  },
  {
   "cell_type": "code",
   "execution_count": 174,
   "metadata": {},
   "outputs": [
    {
     "data": {
      "text/plain": [
       "0.8333333333333334"
      ]
     },
     "execution_count": 174,
     "metadata": {},
     "output_type": "execute_result"
    }
   ],
   "source": [
    "max(accuracy)"
   ]
  },
  {
   "cell_type": "code",
   "execution_count": 175,
   "metadata": {},
   "outputs": [
    {
     "data": {
      "image/png": "[encoded data removed]",
      "text/plain": [
       "<Figure size 640x480 with 1 Axes>"
      ]
     },
     "metadata": {},
     "output_type": "display_data"
    }
   ],
   "source": [
    "plt.plot(k_value,accuracy,c=\"grey\",marker = \".\",ms=7,mfc=\"black\",mec=\"green\")\n",
    "plt.xlabel(\"k\")\n",
    "plt.ylabel(\"accuracy\")\n",
    "plt.grid(True)\n",
    "plt.show()"
   ]
  },
  {
   "cell_type": "code",
   "execution_count": 1,
   "metadata": {},
   "outputs": [],
   "source": [
    "# Diffrence between kmean and kmean clustoring"
   ]
  },
  {
   "cell_type": "code",
   "execution_count": null,
   "metadata": {},
   "outputs": [],
   "source": []
  }
 ],
 "metadata": {
  "kernelspec": {
   "display_name": "ids",
   "language": "python",
   "name": "python3"
  },
  "language_info": {
   "codemirror_mode": {
    "name": "ipython",
    "version": 3
   },
   "file_extension": ".py",
   "mimetype": "text/x-python",
   "name": "python",
   "nbconvert_exporter": "python",
   "pygments_lexer": "ipython3",
   "version": "3.8.19"
  }
 },
 "nbformat": 4,
 "nbformat_minor": 2
}
